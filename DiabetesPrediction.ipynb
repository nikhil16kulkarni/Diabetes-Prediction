{
  "nbformat": 4,
  "nbformat_minor": 0,
  "metadata": {
    "colab": {
      "name": "DiabetesPrediction.ipynb",
      "provenance": [],
      "collapsed_sections": []
    },
    "kernelspec": {
      "name": "python3",
      "display_name": "Python 3"
    },
    "language_info": {
      "name": "python"
    }
  },
  "cells": [
    {
      "cell_type": "markdown",
      "metadata": {
        "id": "aIRkXmT9wudu"
      },
      "source": [
        "## **Install Dependencies**"
      ]
    },
    {
      "cell_type": "code",
      "metadata": {
        "colab": {
          "base_uri": "https://localhost:8080/"
        },
        "id": "UJHAmEuzwGCC",
        "outputId": "06903836-ca5c-4476-d91e-dddc65d840a4"
      },
      "source": [
        "! pip install pyspark # ! is for command line script in Colab"
      ],
      "execution_count": 2,
      "outputs": [
        {
          "output_type": "stream",
          "text": [
            "Collecting pyspark\n",
            "\u001b[?25l  Downloading https://files.pythonhosted.org/packages/89/db/e18cfd78e408de957821ec5ca56de1250645b05f8523d169803d8df35a64/pyspark-3.1.2.tar.gz (212.4MB)\n",
            "\u001b[K     |████████████████████████████████| 212.4MB 68kB/s \n",
            "\u001b[?25hCollecting py4j==0.10.9\n",
            "\u001b[?25l  Downloading https://files.pythonhosted.org/packages/9e/b6/6a4fb90cd235dc8e265a6a2067f2a2c99f0d91787f06aca4bcf7c23f3f80/py4j-0.10.9-py2.py3-none-any.whl (198kB)\n",
            "\u001b[K     |████████████████████████████████| 204kB 18.1MB/s \n",
            "\u001b[?25hBuilding wheels for collected packages: pyspark\n",
            "  Building wheel for pyspark (setup.py) ... \u001b[?25l\u001b[?25hdone\n",
            "  Created wheel for pyspark: filename=pyspark-3.1.2-py2.py3-none-any.whl size=212880768 sha256=34d688116368ed93174884e2c345136c27b6e2d032b8dde2e9d7ef77f5efe51b\n",
            "  Stored in directory: /root/.cache/pip/wheels/40/1b/2c/30f43be2627857ab80062bef1527c0128f7b4070b6b2d02139\n",
            "Successfully built pyspark\n",
            "Installing collected packages: py4j, pyspark\n",
            "Successfully installed py4j-0.10.9 pyspark-3.1.2\n"
          ],
          "name": "stdout"
        }
      ]
    },
    {
      "cell_type": "markdown",
      "metadata": {
        "id": "MNyspiQcwrD3"
      },
      "source": [
        "## **Run SparkSession**"
      ]
    },
    {
      "cell_type": "code",
      "metadata": {
        "id": "A1_Jw3hlxBm8"
      },
      "source": [
        "from pyspark.sql import SparkSession\n",
        "\n",
        "spark = SparkSession.builder.appName(\"spark\").getOrCreate()"
      ],
      "execution_count": 3,
      "outputs": []
    },
    {
      "cell_type": "markdown",
      "metadata": {
        "id": "Ug8aiGVowsui"
      },
      "source": [
        "## **Clone Diabetes Repo**"
      ]
    },
    {
      "cell_type": "code",
      "metadata": {
        "colab": {
          "base_uri": "https://localhost:8080/"
        },
        "id": "v0Xbhud7xlMV",
        "outputId": "1ac4576f-5de4-4c2a-fef6-5872f38d9add"
      },
      "source": [
        "! git clone https://github.com/education454/diabetes_dataset"
      ],
      "execution_count": 4,
      "outputs": [
        {
          "output_type": "stream",
          "text": [
            "Cloning into 'diabetes_dataset'...\n",
            "remote: Enumerating objects: 6, done.\u001b[K\n",
            "remote: Counting objects: 100% (6/6), done.\u001b[K\n",
            "remote: Compressing objects: 100% (5/5), done.\u001b[K\n",
            "remote: Total 6 (delta 0), reused 0 (delta 0), pack-reused 0\u001b[K\n",
            "Unpacking objects: 100% (6/6), done.\n"
          ],
          "name": "stdout"
        }
      ]
    },
    {
      "cell_type": "code",
      "metadata": {
        "colab": {
          "base_uri": "https://localhost:8080/"
        },
        "id": "5XXlr81_xyFt",
        "outputId": "155cd648-4e6d-47f6-e64a-a1492702b0ba"
      },
      "source": [
        "! ls diabetes_dataset"
      ],
      "execution_count": 5,
      "outputs": [
        {
          "output_type": "stream",
          "text": [
            "diabetes.csv  new_test.csv\n"
          ],
          "name": "stdout"
        }
      ]
    },
    {
      "cell_type": "code",
      "metadata": {
        "id": "3Khve9tmyDXU"
      },
      "source": [
        "df = spark.read.csv(\"/content/diabetes_dataset/diabetes.csv\", header=True, inferSchema=True)"
      ],
      "execution_count": 6,
      "outputs": []
    },
    {
      "cell_type": "code",
      "metadata": {
        "colab": {
          "base_uri": "https://localhost:8080/"
        },
        "id": "0ZhEIjDDyjVV",
        "outputId": "290a87ee-58e2-4249-a908-b526b2211030"
      },
      "source": [
        "df.show()"
      ],
      "execution_count": 7,
      "outputs": [
        {
          "output_type": "stream",
          "text": [
            "+-----------+-------+-------------+-------------+-------+----+------------------------+---+-------+\n",
            "|Pregnancies|Glucose|BloodPressure|SkinThickness|Insulin| BMI|DiabetesPedigreeFunction|Age|Outcome|\n",
            "+-----------+-------+-------------+-------------+-------+----+------------------------+---+-------+\n",
            "|          2|    138|           62|           35|      0|33.6|                   0.127| 47|      1|\n",
            "|          0|     84|           82|           31|    125|38.2|                   0.233| 23|      0|\n",
            "|          0|    145|            0|            0|      0|44.2|                    0.63| 31|      1|\n",
            "|          0|    135|           68|           42|    250|42.3|                   0.365| 24|      1|\n",
            "|          1|    139|           62|           41|    480|40.7|                   0.536| 21|      0|\n",
            "|          0|    173|           78|           32|    265|46.5|                   1.159| 58|      0|\n",
            "|          4|     99|           72|           17|      0|25.6|                   0.294| 28|      0|\n",
            "|          8|    194|           80|            0|      0|26.1|                   0.551| 67|      0|\n",
            "|          2|     83|           65|           28|     66|36.8|                   0.629| 24|      0|\n",
            "|          2|     89|           90|           30|      0|33.5|                   0.292| 42|      0|\n",
            "|          4|     99|           68|           38|      0|32.8|                   0.145| 33|      0|\n",
            "|          4|    125|           70|           18|    122|28.9|                   1.144| 45|      1|\n",
            "|          3|     80|            0|            0|      0| 0.0|                   0.174| 22|      0|\n",
            "|          6|    166|           74|            0|      0|26.6|                   0.304| 66|      0|\n",
            "|          5|    110|           68|            0|      0|26.0|                   0.292| 30|      0|\n",
            "|          2|     81|           72|           15|     76|30.1|                   0.547| 25|      0|\n",
            "|          7|    195|           70|           33|    145|25.1|                   0.163| 55|      1|\n",
            "|          6|    154|           74|           32|    193|29.3|                   0.839| 39|      0|\n",
            "|          2|    117|           90|           19|     71|25.2|                   0.313| 21|      0|\n",
            "|          3|     84|           72|           32|      0|37.2|                   0.267| 28|      0|\n",
            "+-----------+-------+-------------+-------------+-------+----+------------------------+---+-------+\n",
            "only showing top 20 rows\n",
            "\n"
          ],
          "name": "stdout"
        }
      ]
    },
    {
      "cell_type": "code",
      "metadata": {
        "colab": {
          "base_uri": "https://localhost:8080/"
        },
        "id": "0_pYQDUkyoJ5",
        "outputId": "fd28e6ea-7941-4dea-9a65-2fb2ce89f9a1"
      },
      "source": [
        "df.printSchema()"
      ],
      "execution_count": 8,
      "outputs": [
        {
          "output_type": "stream",
          "text": [
            "root\n",
            " |-- Pregnancies: integer (nullable = true)\n",
            " |-- Glucose: integer (nullable = true)\n",
            " |-- BloodPressure: integer (nullable = true)\n",
            " |-- SkinThickness: integer (nullable = true)\n",
            " |-- Insulin: integer (nullable = true)\n",
            " |-- BMI: double (nullable = true)\n",
            " |-- DiabetesPedigreeFunction: double (nullable = true)\n",
            " |-- Age: integer (nullable = true)\n",
            " |-- Outcome: integer (nullable = true)\n",
            "\n"
          ],
          "name": "stdout"
        }
      ]
    },
    {
      "cell_type": "code",
      "metadata": {
        "colab": {
          "base_uri": "https://localhost:8080/"
        },
        "id": "7-DZ69UdywS0",
        "outputId": "b0b7de10-9ff4-4e49-f815-99b23f083627"
      },
      "source": [
        "print(df.count(),len(df.columns)) # Rows and Columns"
      ],
      "execution_count": 9,
      "outputs": [
        {
          "output_type": "stream",
          "text": [
            "2000 9\n"
          ],
          "name": "stdout"
        }
      ]
    },
    {
      "cell_type": "code",
      "metadata": {
        "colab": {
          "base_uri": "https://localhost:8080/"
        },
        "id": "ERQ1M5-gzBJC",
        "outputId": "ab4caf06-54ef-4198-8c35-9098846a7877"
      },
      "source": [
        "df.groupby('Outcome').count().show()"
      ],
      "execution_count": 10,
      "outputs": [
        {
          "output_type": "stream",
          "text": [
            "+-------+-----+\n",
            "|Outcome|count|\n",
            "+-------+-----+\n",
            "|      1|  684|\n",
            "|      0| 1316|\n",
            "+-------+-----+\n",
            "\n"
          ],
          "name": "stdout"
        }
      ]
    },
    {
      "cell_type": "code",
      "metadata": {
        "colab": {
          "base_uri": "https://localhost:8080/"
        },
        "id": "UiwhkwVI7Aw1",
        "outputId": "94fe8178-81e9-4cdb-92da-f7991013dee8"
      },
      "source": [
        "df.describe().show()"
      ],
      "execution_count": 11,
      "outputs": [
        {
          "output_type": "stream",
          "text": [
            "+-------+-----------------+------------------+------------------+-----------------+-----------------+------------------+------------------------+------------------+------------------+\n",
            "|summary|      Pregnancies|           Glucose|     BloodPressure|    SkinThickness|          Insulin|               BMI|DiabetesPedigreeFunction|               Age|           Outcome|\n",
            "+-------+-----------------+------------------+------------------+-----------------+-----------------+------------------+------------------------+------------------+------------------+\n",
            "|  count|             2000|              2000|              2000|             2000|             2000|              2000|                    2000|              2000|              2000|\n",
            "|   mean|           3.7035|          121.1825|           69.1455|           20.935|           80.254|32.192999999999984|     0.47092999999999974|           33.0905|             0.342|\n",
            "| stddev|3.306063032730656|32.068635649902916|19.188314815604098|16.10324290992682|111.1805335457595| 8.149900701279762|      0.3235525586811429|11.786423106049496|0.4744982342297426|\n",
            "|    min|                0|                 0|                 0|                0|                0|               0.0|                   0.078|                21|                 0|\n",
            "|    max|               17|               199|               122|              110|              744|              80.6|                    2.42|                81|                 1|\n",
            "+-------+-----------------+------------------+------------------+-----------------+-----------------+------------------+------------------------+------------------+------------------+\n",
            "\n"
          ],
          "name": "stdout"
        }
      ]
    },
    {
      "cell_type": "markdown",
      "metadata": {
        "id": "XdfA9Y2x7yYF"
      },
      "source": [
        "## **Cleaning Data**"
      ]
    },
    {
      "cell_type": "code",
      "metadata": {
        "colab": {
          "base_uri": "https://localhost:8080/"
        },
        "id": "mkwSKClV79g-",
        "outputId": "6a11da97-2b6d-4933-aa51-13eef701fc1b"
      },
      "source": [
        "# Find for Null Values\n",
        "for col in df.columns:\n",
        "  print(col+\":\", df[df[col].isNull()].count())"
      ],
      "execution_count": 12,
      "outputs": [
        {
          "output_type": "stream",
          "text": [
            "Pregnancies: 0\n",
            "Glucose: 0\n",
            "BloodPressure: 0\n",
            "SkinThickness: 0\n",
            "Insulin: 0\n",
            "BMI: 0\n",
            "DiabetesPedigreeFunction: 0\n",
            "Age: 0\n",
            "Outcome: 0\n"
          ],
          "name": "stdout"
        }
      ]
    },
    {
      "cell_type": "code",
      "metadata": {
        "colab": {
          "base_uri": "https://localhost:8080/"
        },
        "id": "UYUtVw2h8VSn",
        "outputId": "7f46d69a-77d1-4165-82c0-fbd2f68f0c7d"
      },
      "source": [
        "def count_zeros():\n",
        "  columns_list = [\"Glucose\", \"BloodPressure\", \"SkinThickness\", \"Insulin\", \"BMI\"]\n",
        "  for i in columns_list:\n",
        "    print(i+\":\", df[df[i]==0].count())\n",
        "\n",
        "count_zeros() # Total number of zero values in respective columns"
      ],
      "execution_count": 14,
      "outputs": [
        {
          "output_type": "stream",
          "text": [
            "Glucose: 13\n",
            "BloodPressure: 90\n",
            "SkinThickness: 573\n",
            "Insulin: 956\n",
            "BMI: 28\n"
          ],
          "name": "stdout"
        }
      ]
    },
    {
      "cell_type": "code",
      "metadata": {
        "colab": {
          "base_uri": "https://localhost:8080/"
        },
        "id": "VcO-r9778-IH",
        "outputId": "ea9cbea2-b5e9-4829-8c16-6639483c3032"
      },
      "source": [
        "from pyspark.sql.functions import *\n",
        "# Find mean value\n",
        "for i in df.columns[1:6]:\n",
        "  data = df.agg({i:\"mean\"}).first()[0]\n",
        "  print(\"Mean Value for {} is {}\".format(i, int(data)))\n",
        "\n",
        "  # Update values which are zero to mean values\n",
        "  df = df.withColumn(i, when(df[i]==0, int(data)).otherwise(df[i]))"
      ],
      "execution_count": 18,
      "outputs": [
        {
          "output_type": "stream",
          "text": [
            "Mean Value for Glucose is 121\n",
            "Mean Value for BloodPressure is 69\n",
            "Mean Value for SkinThickness is 20\n",
            "Mean Value for Insulin is 80\n",
            "Mean Value for BMI is 32\n"
          ],
          "name": "stdout"
        }
      ]
    },
    {
      "cell_type": "code",
      "metadata": {
        "colab": {
          "base_uri": "https://localhost:8080/"
        },
        "id": "FbwOa_sI-e7b",
        "outputId": "44aeb984-1208-4f71-e5af-b90b86334936"
      },
      "source": [
        "df.show()"
      ],
      "execution_count": 19,
      "outputs": [
        {
          "output_type": "stream",
          "text": [
            "+-----------+-------+-------------+-------------+-------+----+------------------------+---+-------+\n",
            "|Pregnancies|Glucose|BloodPressure|SkinThickness|Insulin| BMI|DiabetesPedigreeFunction|Age|Outcome|\n",
            "+-----------+-------+-------------+-------------+-------+----+------------------------+---+-------+\n",
            "|          2|    138|           62|           35|     80|33.6|                   0.127| 47|      1|\n",
            "|          0|     84|           82|           31|    125|38.2|                   0.233| 23|      0|\n",
            "|          0|    145|           69|           20|     80|44.2|                    0.63| 31|      1|\n",
            "|          0|    135|           68|           42|    250|42.3|                   0.365| 24|      1|\n",
            "|          1|    139|           62|           41|    480|40.7|                   0.536| 21|      0|\n",
            "|          0|    173|           78|           32|    265|46.5|                   1.159| 58|      0|\n",
            "|          4|     99|           72|           17|     80|25.6|                   0.294| 28|      0|\n",
            "|          8|    194|           80|           20|     80|26.1|                   0.551| 67|      0|\n",
            "|          2|     83|           65|           28|     66|36.8|                   0.629| 24|      0|\n",
            "|          2|     89|           90|           30|     80|33.5|                   0.292| 42|      0|\n",
            "|          4|     99|           68|           38|     80|32.8|                   0.145| 33|      0|\n",
            "|          4|    125|           70|           18|    122|28.9|                   1.144| 45|      1|\n",
            "|          3|     80|           69|           20|     80|32.0|                   0.174| 22|      0|\n",
            "|          6|    166|           74|           20|     80|26.6|                   0.304| 66|      0|\n",
            "|          5|    110|           68|           20|     80|26.0|                   0.292| 30|      0|\n",
            "|          2|     81|           72|           15|     76|30.1|                   0.547| 25|      0|\n",
            "|          7|    195|           70|           33|    145|25.1|                   0.163| 55|      1|\n",
            "|          6|    154|           74|           32|    193|29.3|                   0.839| 39|      0|\n",
            "|          2|    117|           90|           19|     71|25.2|                   0.313| 21|      0|\n",
            "|          3|     84|           72|           32|     80|37.2|                   0.267| 28|      0|\n",
            "+-----------+-------+-------------+-------------+-------+----+------------------------+---+-------+\n",
            "only showing top 20 rows\n",
            "\n"
          ],
          "name": "stdout"
        }
      ]
    },
    {
      "cell_type": "code",
      "metadata": {
        "id": "0CsQXBX9-gy_"
      },
      "source": [
        ""
      ],
      "execution_count": null,
      "outputs": []
    },
    {
      "cell_type": "markdown",
      "metadata": {
        "id": "-eOElRki_bIg"
      },
      "source": [
        "### **Finding Co-relation between Input Values**"
      ]
    },
    {
      "cell_type": "code",
      "metadata": {
        "colab": {
          "base_uri": "https://localhost:8080/"
        },
        "id": "YF0RREfd_rdS",
        "outputId": "2fbf95e1-3262-4e5a-cc15-89b788fd68a5"
      },
      "source": [
        "for col in df.columns:\n",
        "  print(\"Corelation to outcome variable for {} is {}\".format(col, df.stat.corr(\"Outcome\", col)))"
      ],
      "execution_count": 20,
      "outputs": [
        {
          "output_type": "stream",
          "text": [
            "Corelation to outcome variable for Pregnancies is 0.22443699263363961\n",
            "Corelation to outcome variable for Glucose is 0.48796646527321064\n",
            "Corelation to outcome variable for BloodPressure is 0.17171333286446713\n",
            "Corelation to outcome variable for SkinThickness is 0.1659010662889893\n",
            "Corelation to outcome variable for Insulin is 0.1711763270226193\n",
            "Corelation to outcome variable for BMI is 0.2827927569760082\n",
            "Corelation to outcome variable for DiabetesPedigreeFunction is 0.1554590791569403\n",
            "Corelation to outcome variable for Age is 0.23650924717620253\n",
            "Corelation to outcome variable for Outcome is 1.0\n"
          ],
          "name": "stdout"
        }
      ]
    },
    {
      "cell_type": "code",
      "metadata": {
        "id": "mlz6y2K3AEua"
      },
      "source": [
        "from pyspark.ml.feature import VectorAssembler # Merges different columns in a single vector column\n",
        "assembler = VectorAssembler(inputCols=[\"Pregnancies\", \"Glucose\", \"BloodPressure\", \"SkinThickness\", \"Insulin\", \"BMI\", \"DiabetesPedigreeFunction\", \"Age\"], outputCol=\"features\")"
      ],
      "execution_count": 21,
      "outputs": []
    },
    {
      "cell_type": "code",
      "metadata": {
        "id": "VnC6BcjJBN-E"
      },
      "source": [
        "output_data = assembler.transform(df)"
      ],
      "execution_count": 22,
      "outputs": []
    },
    {
      "cell_type": "code",
      "metadata": {
        "colab": {
          "base_uri": "https://localhost:8080/"
        },
        "id": "nhnvBYIILRi_",
        "outputId": "1301c643-2e03-4ed4-cfbf-3286fccefb35"
      },
      "source": [
        "output_data"
      ],
      "execution_count": 23,
      "outputs": [
        {
          "output_type": "execute_result",
          "data": {
            "text/plain": [
              "DataFrame[Pregnancies: int, Glucose: int, BloodPressure: int, SkinThickness: int, Insulin: int, BMI: double, DiabetesPedigreeFunction: double, Age: int, Outcome: int, features: vector]"
            ]
          },
          "metadata": {
            "tags": []
          },
          "execution_count": 23
        }
      ]
    },
    {
      "cell_type": "code",
      "metadata": {
        "colab": {
          "base_uri": "https://localhost:8080/"
        },
        "id": "2QKuwN0WLWAK",
        "outputId": "31bd2c5e-8d6c-4d04-efa7-b516cdf68ef3"
      },
      "source": [
        "output_data.printSchema"
      ],
      "execution_count": 24,
      "outputs": [
        {
          "output_type": "execute_result",
          "data": {
            "text/plain": [
              "<bound method DataFrame.printSchema of DataFrame[Pregnancies: int, Glucose: int, BloodPressure: int, SkinThickness: int, Insulin: int, BMI: double, DiabetesPedigreeFunction: double, Age: int, Outcome: int, features: vector]>"
            ]
          },
          "metadata": {
            "tags": []
          },
          "execution_count": 24
        }
      ]
    },
    {
      "cell_type": "code",
      "metadata": {
        "colab": {
          "base_uri": "https://localhost:8080/"
        },
        "id": "sCTqyitgLa2H",
        "outputId": "30b88ddf-82e3-463a-fa36-132f067f9805"
      },
      "source": [
        "output_data.printSchema()"
      ],
      "execution_count": 25,
      "outputs": [
        {
          "output_type": "stream",
          "text": [
            "root\n",
            " |-- Pregnancies: integer (nullable = true)\n",
            " |-- Glucose: integer (nullable = true)\n",
            " |-- BloodPressure: integer (nullable = true)\n",
            " |-- SkinThickness: integer (nullable = true)\n",
            " |-- Insulin: integer (nullable = true)\n",
            " |-- BMI: double (nullable = true)\n",
            " |-- DiabetesPedigreeFunction: double (nullable = true)\n",
            " |-- Age: integer (nullable = true)\n",
            " |-- Outcome: integer (nullable = true)\n",
            " |-- features: vector (nullable = true)\n",
            "\n"
          ],
          "name": "stdout"
        }
      ]
    },
    {
      "cell_type": "code",
      "metadata": {
        "colab": {
          "base_uri": "https://localhost:8080/"
        },
        "id": "Fz-g-B1nLdaJ",
        "outputId": "f49bf246-b9f7-4182-ccf0-bf458b4fceb5"
      },
      "source": [
        "output_data.show()"
      ],
      "execution_count": 26,
      "outputs": [
        {
          "output_type": "stream",
          "text": [
            "+-----------+-------+-------------+-------------+-------+----+------------------------+---+-------+--------------------+\n",
            "|Pregnancies|Glucose|BloodPressure|SkinThickness|Insulin| BMI|DiabetesPedigreeFunction|Age|Outcome|            features|\n",
            "+-----------+-------+-------------+-------------+-------+----+------------------------+---+-------+--------------------+\n",
            "|          2|    138|           62|           35|     80|33.6|                   0.127| 47|      1|[2.0,138.0,62.0,3...|\n",
            "|          0|     84|           82|           31|    125|38.2|                   0.233| 23|      0|[0.0,84.0,82.0,31...|\n",
            "|          0|    145|           69|           20|     80|44.2|                    0.63| 31|      1|[0.0,145.0,69.0,2...|\n",
            "|          0|    135|           68|           42|    250|42.3|                   0.365| 24|      1|[0.0,135.0,68.0,4...|\n",
            "|          1|    139|           62|           41|    480|40.7|                   0.536| 21|      0|[1.0,139.0,62.0,4...|\n",
            "|          0|    173|           78|           32|    265|46.5|                   1.159| 58|      0|[0.0,173.0,78.0,3...|\n",
            "|          4|     99|           72|           17|     80|25.6|                   0.294| 28|      0|[4.0,99.0,72.0,17...|\n",
            "|          8|    194|           80|           20|     80|26.1|                   0.551| 67|      0|[8.0,194.0,80.0,2...|\n",
            "|          2|     83|           65|           28|     66|36.8|                   0.629| 24|      0|[2.0,83.0,65.0,28...|\n",
            "|          2|     89|           90|           30|     80|33.5|                   0.292| 42|      0|[2.0,89.0,90.0,30...|\n",
            "|          4|     99|           68|           38|     80|32.8|                   0.145| 33|      0|[4.0,99.0,68.0,38...|\n",
            "|          4|    125|           70|           18|    122|28.9|                   1.144| 45|      1|[4.0,125.0,70.0,1...|\n",
            "|          3|     80|           69|           20|     80|32.0|                   0.174| 22|      0|[3.0,80.0,69.0,20...|\n",
            "|          6|    166|           74|           20|     80|26.6|                   0.304| 66|      0|[6.0,166.0,74.0,2...|\n",
            "|          5|    110|           68|           20|     80|26.0|                   0.292| 30|      0|[5.0,110.0,68.0,2...|\n",
            "|          2|     81|           72|           15|     76|30.1|                   0.547| 25|      0|[2.0,81.0,72.0,15...|\n",
            "|          7|    195|           70|           33|    145|25.1|                   0.163| 55|      1|[7.0,195.0,70.0,3...|\n",
            "|          6|    154|           74|           32|    193|29.3|                   0.839| 39|      0|[6.0,154.0,74.0,3...|\n",
            "|          2|    117|           90|           19|     71|25.2|                   0.313| 21|      0|[2.0,117.0,90.0,1...|\n",
            "|          3|     84|           72|           32|     80|37.2|                   0.267| 28|      0|[3.0,84.0,72.0,32...|\n",
            "+-----------+-------+-------------+-------------+-------+----+------------------------+---+-------+--------------------+\n",
            "only showing top 20 rows\n",
            "\n"
          ],
          "name": "stdout"
        }
      ]
    },
    {
      "cell_type": "code",
      "metadata": {
        "id": "i8xHzo8bLgjk"
      },
      "source": [
        ""
      ],
      "execution_count": null,
      "outputs": []
    },
    {
      "cell_type": "markdown",
      "metadata": {
        "id": "CQwpVEt9LrYN"
      },
      "source": [
        "## **Training ML Model using Logistic Regression**"
      ]
    },
    {
      "cell_type": "code",
      "metadata": {
        "colab": {
          "base_uri": "https://localhost:8080/"
        },
        "id": "NPGO3z8gLyFe",
        "outputId": "7fb9fc88-d193-4e0a-beb6-ba388616411b"
      },
      "source": [
        "from pyspark.ml.classification import LogisticRegression\n",
        "final_data = output_data.select(\"features\", \"Outcome\")\n",
        "final_data.printSchema()"
      ],
      "execution_count": 27,
      "outputs": [
        {
          "output_type": "stream",
          "text": [
            "root\n",
            " |-- features: vector (nullable = true)\n",
            " |-- Outcome: integer (nullable = true)\n",
            "\n"
          ],
          "name": "stdout"
        }
      ]
    },
    {
      "cell_type": "code",
      "metadata": {
        "id": "OMucrzpyMDgq"
      },
      "source": [
        "train, test = final_data.randomSplit([0.6, 0.4])\n",
        "models = LogisticRegression(labelCol=\"Outcome\")\n",
        "model = models.fit(train)"
      ],
      "execution_count": 29,
      "outputs": []
    },
    {
      "cell_type": "code",
      "metadata": {
        "colab": {
          "base_uri": "https://localhost:8080/"
        },
        "id": "TznW8wIEMZz1",
        "outputId": "aa7145b9-c5ea-4b37-fb66-3ac265e721e4"
      },
      "source": [
        "summary = model.summary\n",
        "summary.predictions.describe().show()"
      ],
      "execution_count": 30,
      "outputs": [
        {
          "output_type": "stream",
          "text": [
            "+-------+-------------------+-------------------+\n",
            "|summary|            Outcome|         prediction|\n",
            "+-------+-------------------+-------------------+\n",
            "|  count|               1190|               1190|\n",
            "|   mean| 0.3352941176470588|0.25210084033613445|\n",
            "| stddev|0.47229166540046863|0.43440140643979414|\n",
            "|    min|                0.0|                0.0|\n",
            "|    max|                1.0|                1.0|\n",
            "+-------+-------------------+-------------------+\n",
            "\n"
          ],
          "name": "stdout"
        }
      ]
    },
    {
      "cell_type": "code",
      "metadata": {
        "id": "f_qK-zRLMmkr"
      },
      "source": [
        ""
      ],
      "execution_count": null,
      "outputs": []
    },
    {
      "cell_type": "markdown",
      "metadata": {
        "id": "nlA14tz8M1C1"
      },
      "source": [
        "## **Evaluation & Testing of Model**"
      ]
    },
    {
      "cell_type": "code",
      "metadata": {
        "id": "ZvznOdodM612"
      },
      "source": [
        "from pyspark.ml.evaluation import BinaryClassificationEvaluator\n",
        "predictions = model.evaluate(test)"
      ],
      "execution_count": 31,
      "outputs": []
    },
    {
      "cell_type": "code",
      "metadata": {
        "colab": {
          "base_uri": "https://localhost:8080/"
        },
        "id": "K-Gb2tH3NFmU",
        "outputId": "92a170b4-73b7-4fc8-f9e0-b5eeeb6da2a9"
      },
      "source": [
        "predictions.predictions.show(10)"
      ],
      "execution_count": 32,
      "outputs": [
        {
          "output_type": "stream",
          "text": [
            "+--------------------+-------+--------------------+--------------------+----------+\n",
            "|            features|Outcome|       rawPrediction|         probability|prediction|\n",
            "+--------------------+-------+--------------------+--------------------+----------+\n",
            "|[0.0,67.0,76.0,20...|      0|[2.67787833914568...|[0.93570860662752...|       0.0|\n",
            "|[0.0,67.0,76.0,20...|      0|[2.67787833914568...|[0.93570860662752...|       0.0|\n",
            "|[0.0,73.0,69.0,20...|      0|[4.32257574221833...|[0.98690800355989...|       0.0|\n",
            "|[0.0,74.0,52.0,10...|      0|[3.72281490802774...|[0.97640436122882...|       0.0|\n",
            "|[0.0,78.0,88.0,29...|      0|[2.70014820078138...|[0.93703538836572...|       0.0|\n",
            "|[0.0,78.0,88.0,29...|      0|[2.70014820078138...|[0.93703538836572...|       0.0|\n",
            "|[0.0,91.0,68.0,32...|      0|[2.33523862466574...|[0.91175374066746...|       0.0|\n",
            "|[0.0,91.0,68.0,32...|      0|[2.33523862466574...|[0.91175374066746...|       0.0|\n",
            "|[0.0,91.0,80.0,20...|      0|[2.41769732166085...|[0.91816689598209...|       0.0|\n",
            "|[0.0,91.0,80.0,20...|      0|[2.41769732166085...|[0.91816689598209...|       0.0|\n",
            "+--------------------+-------+--------------------+--------------------+----------+\n",
            "only showing top 10 rows\n",
            "\n"
          ],
          "name": "stdout"
        }
      ]
    },
    {
      "cell_type": "code",
      "metadata": {
        "colab": {
          "base_uri": "https://localhost:8080/"
        },
        "id": "Zudp6jDYNKGS",
        "outputId": "d75a1aba-03f8-42ad-bda8-364f95ada1d2"
      },
      "source": [
        "predictions.predictions.show(50)"
      ],
      "execution_count": 33,
      "outputs": [
        {
          "output_type": "stream",
          "text": [
            "+--------------------+-------+--------------------+--------------------+----------+\n",
            "|            features|Outcome|       rawPrediction|         probability|prediction|\n",
            "+--------------------+-------+--------------------+--------------------+----------+\n",
            "|[0.0,67.0,76.0,20...|      0|[2.67787833914568...|[0.93570860662752...|       0.0|\n",
            "|[0.0,67.0,76.0,20...|      0|[2.67787833914568...|[0.93570860662752...|       0.0|\n",
            "|[0.0,73.0,69.0,20...|      0|[4.32257574221833...|[0.98690800355989...|       0.0|\n",
            "|[0.0,74.0,52.0,10...|      0|[3.72281490802774...|[0.97640436122882...|       0.0|\n",
            "|[0.0,78.0,88.0,29...|      0|[2.70014820078138...|[0.93703538836572...|       0.0|\n",
            "|[0.0,78.0,88.0,29...|      0|[2.70014820078138...|[0.93703538836572...|       0.0|\n",
            "|[0.0,91.0,68.0,32...|      0|[2.33523862466574...|[0.91175374066746...|       0.0|\n",
            "|[0.0,91.0,68.0,32...|      0|[2.33523862466574...|[0.91175374066746...|       0.0|\n",
            "|[0.0,91.0,80.0,20...|      0|[2.41769732166085...|[0.91816689598209...|       0.0|\n",
            "|[0.0,91.0,80.0,20...|      0|[2.41769732166085...|[0.91816689598209...|       0.0|\n",
            "|[0.0,93.0,60.0,20...|      0|[2.50000858422437...|[0.92414242176259...|       0.0|\n",
            "|[0.0,93.0,60.0,25...|      0|[2.82688044057922...|[0.94411122570015...|       0.0|\n",
            "|[0.0,93.0,100.0,3...|      0|[1.07823750002366...|[0.74616030169972...|       0.0|\n",
            "|[0.0,94.0,69.0,20...|      0|[2.71442201458212...|[0.93787230931154...|       0.0|\n",
            "|[0.0,94.0,69.0,20...|      0|[2.71442201458212...|[0.93787230931154...|       0.0|\n",
            "|[0.0,95.0,64.0,39...|      0|[1.72089746266922...|[0.84824439908776...|       0.0|\n",
            "|[0.0,95.0,64.0,39...|      0|[1.72089746266922...|[0.84824439908776...|       0.0|\n",
            "|[0.0,95.0,80.0,45...|      0|[2.39613527159144...|[0.91653212349969...|       0.0|\n",
            "|[0.0,95.0,80.0,45...|      0|[2.39613527159144...|[0.91653212349969...|       0.0|\n",
            "|[0.0,95.0,85.0,25...|      1|[2.16971404639137...|[0.89749666284248...|       0.0|\n",
            "|[0.0,95.0,85.0,25...|      1|[2.16971404639137...|[0.89749666284248...|       0.0|\n",
            "|[0.0,98.0,82.0,15...|      0|[3.01334221248402...|[0.95317325677761...|       0.0|\n",
            "|[0.0,99.0,69.0,20...|      0|[3.10317928822327...|[0.95702369725023...|       0.0|\n",
            "|[0.0,100.0,70.0,2...|      0|[2.24087044101767...|[0.90386012359724...|       0.0|\n",
            "|[0.0,100.0,70.0,2...|      0|[2.24087044101767...|[0.90386012359724...|       0.0|\n",
            "|[0.0,100.0,88.0,6...|      0|[0.83303332497586...|[0.69699592816391...|       0.0|\n",
            "|[0.0,101.0,62.0,2...|      0|[3.21437957767641...|[0.96137183470561...|       0.0|\n",
            "|[0.0,101.0,62.0,2...|      0|[3.21437957767641...|[0.96137183470561...|       0.0|\n",
            "|[0.0,101.0,64.0,1...|      0|[3.34931576571369...|[0.96608242256464...|       0.0|\n",
            "|[0.0,101.0,76.0,2...|      0|[2.18202223343231...|[0.89862344481385...|       0.0|\n",
            "|[0.0,101.0,76.0,2...|      0|[2.18202223343231...|[0.89862344481385...|       0.0|\n",
            "|[0.0,102.0,52.0,2...|      0|[3.20411105580603...|[0.96098869074916...|       0.0|\n",
            "|[0.0,102.0,64.0,4...|      0|[1.66187542231626...|[0.84048959557475...|       0.0|\n",
            "|[0.0,102.0,64.0,4...|      0|[1.66187542231626...|[0.84048959557475...|       0.0|\n",
            "|[0.0,102.0,64.0,4...|      0|[1.66187542231626...|[0.84048959557475...|       0.0|\n",
            "|[0.0,102.0,75.0,2...|      0|[2.10050076606510...|[0.89095184108754...|       0.0|\n",
            "|[0.0,102.0,86.0,1...|      0|[2.15695219706111...|[0.89631664865614...|       0.0|\n",
            "|[0.0,104.0,64.0,2...|      0|[2.56857157583810...|[0.92881130510782...|       0.0|\n",
            "|[0.0,104.0,64.0,3...|      1|[2.06013985650374...|[0.88696819208703...|       0.0|\n",
            "|[0.0,104.0,76.0,2...|      0|[3.09943506337423...|[0.95686943596119...|       0.0|\n",
            "|[0.0,104.0,76.0,2...|      0|[3.09943506337423...|[0.95686943596119...|       0.0|\n",
            "|[0.0,105.0,64.0,4...|      0|[1.85583233337383...|[0.86481043259455...|       0.0|\n",
            "|[0.0,105.0,84.0,2...|      1|[2.06909109333623...|[0.88786250015542...|       0.0|\n",
            "|[0.0,105.0,84.0,2...|      1|[2.06909109333623...|[0.88786250015542...|       0.0|\n",
            "|[0.0,105.0,90.0,2...|      0|[2.47339602357018...|[0.92225560987652...|       0.0|\n",
            "|[0.0,106.0,70.0,3...|      0|[1.52043525712521...|[0.82060256547461...|       0.0|\n",
            "|[0.0,107.0,60.0,2...|      0|[2.86299929338928...|[0.94598675600959...|       0.0|\n",
            "|[0.0,107.0,60.0,2...|      0|[2.86299929338928...|[0.94598675600959...|       0.0|\n",
            "|[0.0,107.0,62.0,3...|      1|[1.42015982929576...|[0.80536347137683...|       0.0|\n",
            "|[0.0,107.0,62.0,3...|      1|[1.42015982929576...|[0.80536347137683...|       0.0|\n",
            "+--------------------+-------+--------------------+--------------------+----------+\n",
            "only showing top 50 rows\n",
            "\n"
          ],
          "name": "stdout"
        }
      ]
    },
    {
      "cell_type": "code",
      "metadata": {
        "colab": {
          "base_uri": "https://localhost:8080/"
        },
        "id": "M7duGo0jNeWy",
        "outputId": "1cb61bfc-fcc6-4719-a82e-3c3ff6d927f5"
      },
      "source": [
        "evaluator = BinaryClassificationEvaluator(rawPredictionCol=\"rawPrediction\", labelCol=\"Outcome\")\n",
        "evaluator.evaluate(model.transform(test))"
      ],
      "execution_count": 35,
      "outputs": [
        {
          "output_type": "execute_result",
          "data": {
            "text/plain": [
              "0.8290726817042591"
            ]
          },
          "metadata": {
            "tags": []
          },
          "execution_count": 35
        }
      ]
    },
    {
      "cell_type": "code",
      "metadata": {
        "id": "GLQGRoSgN4Nc"
      },
      "source": [
        "model.save(\"DiabetesPredictorModel\")"
      ],
      "execution_count": 36,
      "outputs": []
    },
    {
      "cell_type": "code",
      "metadata": {
        "id": "zLfa-9tqOCsT"
      },
      "source": [
        "from pyspark.ml.classification import LogisticRegressionModel\n",
        "DiabetesPredictorModel = LogisticRegressionModel.load(\"DiabetesPredictorModel\")"
      ],
      "execution_count": 37,
      "outputs": []
    },
    {
      "cell_type": "code",
      "metadata": {
        "id": "GF_xUP2EOTRd"
      },
      "source": [
        ""
      ],
      "execution_count": null,
      "outputs": []
    }
  ]
}